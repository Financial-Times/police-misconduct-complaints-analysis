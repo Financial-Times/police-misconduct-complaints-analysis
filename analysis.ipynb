{
 "cells": [
  {
   "cell_type": "code",
   "execution_count": 1,
   "metadata": {},
   "outputs": [],
   "source": [
    "suppressMessages(library('tidyverse'))"
   ]
  },
  {
   "cell_type": "markdown",
   "metadata": {},
   "source": [
    "## Load datasets"
   ]
  },
  {
   "cell_type": "markdown",
   "metadata": {},
   "source": [
    "More information on the pre-processing of each city's police misconduct complaints data in the [`cleaning`](https://github.com/Financial-Times/police-misconduct-complaints-analysis/tree/main/cleaning) directory."
   ]
  },
  {
   "cell_type": "code",
   "execution_count": 2,
   "metadata": {},
   "outputs": [
    {
     "name": "stderr",
     "output_type": "stream",
     "text": [
      "\n",
      "\u001b[36m──\u001b[39m \u001b[1m\u001b[1mColumn specification\u001b[1m\u001b[22m \u001b[36m───────────────────────────────────────────────────────────────────────────────────────────────\u001b[39m\n",
      "cols(\n",
      "  .default = col_character(),\n",
      "  cr_id = \u001b[32mcol_double()\u001b[39m,\n",
      "  link_UID = \u001b[32mcol_double()\u001b[39m,\n",
      "  UID = \u001b[32mcol_double()\u001b[39m,\n",
      "  cv = \u001b[32mcol_double()\u001b[39m,\n",
      "  complaint_date = \u001b[34mcol_date(format = \"\")\u001b[39m,\n",
      "  closed_date = \u001b[34mcol_date(format = \"\")\u001b[39m,\n",
      "  appointed_date = \u001b[34mcol_date(format = \"\")\u001b[39m,\n",
      "  resignation_date = \u001b[34mcol_date(format = \"\")\u001b[39m,\n",
      "  officer_birthyear = \u001b[32mcol_double()\u001b[39m\n",
      ")\n",
      "\u001b[36mℹ\u001b[39m Use \u001b[30m\u001b[47m\u001b[30m\u001b[47m`spec()`\u001b[47m\u001b[30m\u001b[49m\u001b[39m for the full column specifications.\n",
      "\n",
      "\n",
      "\n",
      "\u001b[36m──\u001b[39m \u001b[1m\u001b[1mColumn specification\u001b[1m\u001b[22m \u001b[36m───────────────────────────────────────────────────────────────────────────────────────────────\u001b[39m\n",
      "cols(\n",
      "  .default = col_character(),\n",
      "  AllegationID = \u001b[32mcol_double()\u001b[39m,\n",
      "  OfficerID = \u001b[32mcol_double()\u001b[39m,\n",
      "  ShieldNo = \u001b[32mcol_double()\u001b[39m,\n",
      "  DaysOnForce = \u001b[32mcol_double()\u001b[39m,\n",
      "  ComplaintID = \u001b[32mcol_double()\u001b[39m,\n",
      "  IncidentDate = \u001b[34mcol_date(format = \"\")\u001b[39m,\n",
      "  ImpactedAge = \u001b[32mcol_double()\u001b[39m,\n",
      "  ReceivedDate = \u001b[34mcol_date(format = \"\")\u001b[39m,\n",
      "  CloseDate = \u001b[34mcol_date(format = \"\")\u001b[39m\n",
      ")\n",
      "\u001b[36mℹ\u001b[39m Use \u001b[30m\u001b[47m\u001b[30m\u001b[47m`spec()`\u001b[47m\u001b[30m\u001b[49m\u001b[39m for the full column specifications.\n",
      "\n",
      "\n",
      "\n",
      "\u001b[36m──\u001b[39m \u001b[1m\u001b[1mColumn specification\u001b[1m\u001b[22m \u001b[36m───────────────────────────────────────────────────────────────────────────────────────────────\u001b[39m\n",
      "cols(\n",
      "  complaint_id = \u001b[31mcol_character()\u001b[39m,\n",
      "  date_received = \u001b[34mcol_date(format = \"\")\u001b[39m,\n",
      "  district_occurrence = \u001b[31mcol_character()\u001b[39m,\n",
      "  general_cap_classification = \u001b[31mcol_character()\u001b[39m,\n",
      "  summary = \u001b[31mcol_character()\u001b[39m,\n",
      "  officer_id = \u001b[32mcol_double()\u001b[39m,\n",
      "  po_race = \u001b[31mcol_character()\u001b[39m,\n",
      "  po_sex = \u001b[31mcol_character()\u001b[39m,\n",
      "  po_assigned_unit = \u001b[31mcol_character()\u001b[39m,\n",
      "  allegations_investigated = \u001b[31mcol_character()\u001b[39m,\n",
      "  investigative_findings = \u001b[31mcol_character()\u001b[39m,\n",
      "  disciplinary_findings = \u001b[31mcol_character()\u001b[39m\n",
      ")\n",
      "\n",
      "\n"
     ]
    }
   ],
   "source": [
    "chicago <- read_csv('output/chicago_clean.csv')\n",
    "nyc <- read_csv('output/nyc_clean.csv')\n",
    "philly <- read_csv('output/philly_clean.csv')"
   ]
  },
  {
   "cell_type": "markdown",
   "metadata": {},
   "source": [
    "### Decile analysis: what does the distribution of complaints look like in each city?"
   ]
  },
  {
   "cell_type": "markdown",
   "metadata": {},
   "source": [
    "#### Chicago"
   ]
  },
  {
   "cell_type": "markdown",
   "metadata": {},
   "source": [
    "Create a dataframe, `chicago.grouped`, that groups complaints by officer ID (`link_UID`) and counts the number of complaints per officer"
   ]
  },
  {
   "cell_type": "code",
   "execution_count": 3,
   "metadata": {},
   "outputs": [],
   "source": [
    "chicago.grouped <- chicago %>% group_by(link_UID) %>% summarise(n = n())"
   ]
  },
  {
   "cell_type": "markdown",
   "metadata": {},
   "source": [
    "Create a dataframe, `chicago.grouped.deciles`, that divides the officers into ten equally-sized groups, each representing 10% of the officers based on their number of complaints. Then, calculate the number of complaints in each decile and the percent of total complaints that each decile's complaints represents."
   ]
  },
  {
   "cell_type": "code",
   "execution_count": 4,
   "metadata": {},
   "outputs": [],
   "source": [
    "chicago.grouped.deciles <-\n",
    "chicago.grouped %>%\n",
    "  arrange(desc(n)) %>%\n",
    "  mutate(decile = ntile(n, 10)) %>%\n",
    "  group_by(decile) %>%\n",
    "  summarise(n = sum(n)) %>%\n",
    "  mutate(perc = n/sum(n) * 100)"
   ]
  },
  {
   "cell_type": "markdown",
   "metadata": {},
   "source": [
    "The top 10% of officers generating complaints (decile 10) accounted for 36.8% of the total complaints."
   ]
  },
  {
   "cell_type": "code",
   "execution_count": 5,
   "metadata": {},
   "outputs": [
    {
     "data": {
      "text/html": [
       "<table class=\"dataframe\">\n",
       "<caption>A tibble: 10 × 3</caption>\n",
       "<thead>\n",
       "\t<tr><th scope=col>decile</th><th scope=col>n</th><th scope=col>perc</th></tr>\n",
       "\t<tr><th scope=col>&lt;int&gt;</th><th scope=col>&lt;int&gt;</th><th scope=col>&lt;dbl&gt;</th></tr>\n",
       "</thead>\n",
       "<tbody>\n",
       "\t<tr><td> 1</td><td>  928</td><td> 2.489938</td></tr>\n",
       "\t<tr><td> 2</td><td>  928</td><td> 2.489938</td></tr>\n",
       "\t<tr><td> 3</td><td>  928</td><td> 2.489938</td></tr>\n",
       "\t<tr><td> 4</td><td> 1521</td><td> 4.081030</td></tr>\n",
       "\t<tr><td> 5</td><td> 1856</td><td> 4.979877</td></tr>\n",
       "\t<tr><td> 6</td><td> 2588</td><td> 6.943923</td></tr>\n",
       "\t<tr><td> 7</td><td> 3331</td><td> 8.937483</td></tr>\n",
       "\t<tr><td> 8</td><td> 4654</td><td>12.487255</td></tr>\n",
       "\t<tr><td> 9</td><td> 6831</td><td>18.328414</td></tr>\n",
       "\t<tr><td>10</td><td>13705</td><td>36.772203</td></tr>\n",
       "</tbody>\n",
       "</table>\n"
      ],
      "text/latex": [
       "A tibble: 10 × 3\n",
       "\\begin{tabular}{lll}\n",
       " decile & n & perc\\\\\n",
       " <int> & <int> & <dbl>\\\\\n",
       "\\hline\n",
       "\t  1 &   928 &  2.489938\\\\\n",
       "\t  2 &   928 &  2.489938\\\\\n",
       "\t  3 &   928 &  2.489938\\\\\n",
       "\t  4 &  1521 &  4.081030\\\\\n",
       "\t  5 &  1856 &  4.979877\\\\\n",
       "\t  6 &  2588 &  6.943923\\\\\n",
       "\t  7 &  3331 &  8.937483\\\\\n",
       "\t  8 &  4654 & 12.487255\\\\\n",
       "\t  9 &  6831 & 18.328414\\\\\n",
       "\t 10 & 13705 & 36.772203\\\\\n",
       "\\end{tabular}\n"
      ],
      "text/markdown": [
       "\n",
       "A tibble: 10 × 3\n",
       "\n",
       "| decile &lt;int&gt; | n &lt;int&gt; | perc &lt;dbl&gt; |\n",
       "|---|---|---|\n",
       "|  1 |   928 |  2.489938 |\n",
       "|  2 |   928 |  2.489938 |\n",
       "|  3 |   928 |  2.489938 |\n",
       "|  4 |  1521 |  4.081030 |\n",
       "|  5 |  1856 |  4.979877 |\n",
       "|  6 |  2588 |  6.943923 |\n",
       "|  7 |  3331 |  8.937483 |\n",
       "|  8 |  4654 | 12.487255 |\n",
       "|  9 |  6831 | 18.328414 |\n",
       "| 10 | 13705 | 36.772203 |\n",
       "\n"
      ],
      "text/plain": [
       "   decile n     perc     \n",
       "1   1       928  2.489938\n",
       "2   2       928  2.489938\n",
       "3   3       928  2.489938\n",
       "4   4      1521  4.081030\n",
       "5   5      1856  4.979877\n",
       "6   6      2588  6.943923\n",
       "7   7      3331  8.937483\n",
       "8   8      4654 12.487255\n",
       "9   9      6831 18.328414\n",
       "10 10     13705 36.772203"
      ]
     },
     "metadata": {},
     "output_type": "display_data"
    }
   ],
   "source": [
    "chicago.grouped.deciles"
   ]
  },
  {
   "cell_type": "markdown",
   "metadata": {},
   "source": [
    "This group of officers in the top decile had a median of 13 complaints."
   ]
  },
  {
   "cell_type": "code",
   "execution_count": 6,
   "metadata": {},
   "outputs": [
    {
     "data": {
      "text/html": [
       "<table class=\"dataframe\">\n",
       "<caption>A tibble: 1 × 1</caption>\n",
       "<thead>\n",
       "\t<tr><th scope=col>median</th></tr>\n",
       "\t<tr><th scope=col>&lt;int&gt;</th></tr>\n",
       "</thead>\n",
       "<tbody>\n",
       "\t<tr><td>13</td></tr>\n",
       "</tbody>\n",
       "</table>\n"
      ],
      "text/latex": [
       "A tibble: 1 × 1\n",
       "\\begin{tabular}{l}\n",
       " median\\\\\n",
       " <int>\\\\\n",
       "\\hline\n",
       "\t 13\\\\\n",
       "\\end{tabular}\n"
      ],
      "text/markdown": [
       "\n",
       "A tibble: 1 × 1\n",
       "\n",
       "| median &lt;int&gt; |\n",
       "|---|\n",
       "| 13 |\n",
       "\n"
      ],
      "text/plain": [
       "  median\n",
       "1 13    "
      ]
     },
     "metadata": {},
     "output_type": "display_data"
    }
   ],
   "source": [
    "chicago.grouped %>%\n",
    "  arrange(desc(n)) %>%\n",
    "  mutate(decile = ntile(n, 10)) %>%\n",
    "  filter(decile == 10) %>%\n",
    "  summarise(median = median(n))"
   ]
  },
  {
   "cell_type": "markdown",
   "metadata": {},
   "source": [
    "#### NYC"
   ]
  },
  {
   "cell_type": "markdown",
   "metadata": {},
   "source": [
    "Create a dataframe, `nyc.grouped`, that groups complaints by officer ID (`OfficerID`) and counts the number of complaints per officer. Note that for complaints that name a given officer multiple times, we only count the officer once. In other words, we make it so that a given police officer can have a maximum of one allegation under a given complaint.  "
   ]
  },
  {
   "cell_type": "code",
   "execution_count": 7,
   "metadata": {},
   "outputs": [],
   "source": [
    "nyc.grouped <- nyc %>% \n",
    "               distinct(ComplaintID, OfficerID) %>% group_by(OfficerID) %>% \n",
    "               summarise(n = n())"
   ]
  },
  {
   "cell_type": "markdown",
   "metadata": {},
   "source": [
    "Create a dataframe, `nyc.grouped.deciles`, that divides the officers into ten equally-sized groups, each representing 10% of the officers based on their number of complaints. Then, calculate the number of complaints in each decile and the percent of total complaints that each decile's complaints represents."
   ]
  },
  {
   "cell_type": "code",
   "execution_count": 8,
   "metadata": {},
   "outputs": [],
   "source": [
    "nyc.grouped.deciles <-\n",
    "nyc.grouped %>%\n",
    "  arrange(desc(n)) %>%\n",
    "  mutate(decile = ntile(n, 10)) %>%\n",
    "  group_by(decile) %>%\n",
    "  summarise(n = sum(n)) %>%\n",
    "  mutate(perc = n/sum(n) * 100)"
   ]
  },
  {
   "cell_type": "markdown",
   "metadata": {},
   "source": [
    "The top 10% of officers generating complaints (decile 10) accounted for 31.7% of the total complaints."
   ]
  },
  {
   "cell_type": "code",
   "execution_count": 9,
   "metadata": {},
   "outputs": [
    {
     "data": {
      "text/html": [
       "<table class=\"dataframe\">\n",
       "<caption>A tibble: 10 × 3</caption>\n",
       "<thead>\n",
       "\t<tr><th scope=col>decile</th><th scope=col>n</th><th scope=col>perc</th></tr>\n",
       "\t<tr><th scope=col>&lt;int&gt;</th><th scope=col>&lt;int&gt;</th><th scope=col>&lt;dbl&gt;</th></tr>\n",
       "</thead>\n",
       "<tbody>\n",
       "\t<tr><td> 1</td><td> 2085</td><td> 4.098522</td></tr>\n",
       "\t<tr><td> 2</td><td> 2085</td><td> 4.098522</td></tr>\n",
       "\t<tr><td> 3</td><td> 2085</td><td> 4.098522</td></tr>\n",
       "\t<tr><td> 4</td><td> 2085</td><td> 4.098522</td></tr>\n",
       "\t<tr><td> 5</td><td> 2663</td><td> 5.234707</td></tr>\n",
       "\t<tr><td> 6</td><td> 4168</td><td> 8.193112</td></tr>\n",
       "\t<tr><td> 7</td><td> 4445</td><td> 8.737616</td></tr>\n",
       "\t<tr><td> 8</td><td> 6252</td><td>12.289668</td></tr>\n",
       "\t<tr><td> 9</td><td> 8867</td><td>17.430020</td></tr>\n",
       "\t<tr><td>10</td><td>16137</td><td>31.720789</td></tr>\n",
       "</tbody>\n",
       "</table>\n"
      ],
      "text/latex": [
       "A tibble: 10 × 3\n",
       "\\begin{tabular}{lll}\n",
       " decile & n & perc\\\\\n",
       " <int> & <int> & <dbl>\\\\\n",
       "\\hline\n",
       "\t  1 &  2085 &  4.098522\\\\\n",
       "\t  2 &  2085 &  4.098522\\\\\n",
       "\t  3 &  2085 &  4.098522\\\\\n",
       "\t  4 &  2085 &  4.098522\\\\\n",
       "\t  5 &  2663 &  5.234707\\\\\n",
       "\t  6 &  4168 &  8.193112\\\\\n",
       "\t  7 &  4445 &  8.737616\\\\\n",
       "\t  8 &  6252 & 12.289668\\\\\n",
       "\t  9 &  8867 & 17.430020\\\\\n",
       "\t 10 & 16137 & 31.720789\\\\\n",
       "\\end{tabular}\n"
      ],
      "text/markdown": [
       "\n",
       "A tibble: 10 × 3\n",
       "\n",
       "| decile &lt;int&gt; | n &lt;int&gt; | perc &lt;dbl&gt; |\n",
       "|---|---|---|\n",
       "|  1 |  2085 |  4.098522 |\n",
       "|  2 |  2085 |  4.098522 |\n",
       "|  3 |  2085 |  4.098522 |\n",
       "|  4 |  2085 |  4.098522 |\n",
       "|  5 |  2663 |  5.234707 |\n",
       "|  6 |  4168 |  8.193112 |\n",
       "|  7 |  4445 |  8.737616 |\n",
       "|  8 |  6252 | 12.289668 |\n",
       "|  9 |  8867 | 17.430020 |\n",
       "| 10 | 16137 | 31.720789 |\n",
       "\n"
      ],
      "text/plain": [
       "   decile n     perc     \n",
       "1   1      2085  4.098522\n",
       "2   2      2085  4.098522\n",
       "3   3      2085  4.098522\n",
       "4   4      2085  4.098522\n",
       "5   5      2663  5.234707\n",
       "6   6      4168  8.193112\n",
       "7   7      4445  8.737616\n",
       "8   8      6252 12.289668\n",
       "9   9      8867 17.430020\n",
       "10 10     16137 31.720789"
      ]
     },
     "metadata": {},
     "output_type": "display_data"
    }
   ],
   "source": [
    "nyc.grouped.deciles"
   ]
  },
  {
   "cell_type": "markdown",
   "metadata": {},
   "source": [
    "This group of officers in the top decile had a median of 7 complaints."
   ]
  },
  {
   "cell_type": "code",
   "execution_count": 10,
   "metadata": {},
   "outputs": [
    {
     "data": {
      "text/html": [
       "<table class=\"dataframe\">\n",
       "<caption>A tibble: 1 × 1</caption>\n",
       "<thead>\n",
       "\t<tr><th scope=col>median</th></tr>\n",
       "\t<tr><th scope=col>&lt;dbl&gt;</th></tr>\n",
       "</thead>\n",
       "<tbody>\n",
       "\t<tr><td>7</td></tr>\n",
       "</tbody>\n",
       "</table>\n"
      ],
      "text/latex": [
       "A tibble: 1 × 1\n",
       "\\begin{tabular}{l}\n",
       " median\\\\\n",
       " <dbl>\\\\\n",
       "\\hline\n",
       "\t 7\\\\\n",
       "\\end{tabular}\n"
      ],
      "text/markdown": [
       "\n",
       "A tibble: 1 × 1\n",
       "\n",
       "| median &lt;dbl&gt; |\n",
       "|---|\n",
       "| 7 |\n",
       "\n"
      ],
      "text/plain": [
       "  median\n",
       "1 7     "
      ]
     },
     "metadata": {},
     "output_type": "display_data"
    }
   ],
   "source": [
    "nyc.grouped %>%\n",
    "  arrange(desc(n)) %>%\n",
    "  mutate(decile = ntile(n, 10)) %>%\n",
    "  filter(decile == 10) %>%\n",
    "  summarise(median = median(n))"
   ]
  },
  {
   "cell_type": "markdown",
   "metadata": {},
   "source": [
    "#### Philly"
   ]
  },
  {
   "cell_type": "markdown",
   "metadata": {},
   "source": [
    "Create a dataframe, `philly.grouped`, that groups complaints by officer ID (`officer_id`) and counts the number of complaints per officer. Note that for complaints that name a given officer multiple times, we only count the officer once. In other words, we make it so that a given police officer can have a maximum of one allegation under a given complaint."
   ]
  },
  {
   "cell_type": "code",
   "execution_count": 11,
   "metadata": {},
   "outputs": [],
   "source": [
    "philly.grouped <- philly %>%\n",
    "  distinct(complaint_id, officer_id) %>% \n",
    "  group_by(officer_id) %>%\n",
    "  summarise(n = n()) "
   ]
  },
  {
   "cell_type": "markdown",
   "metadata": {},
   "source": [
    "Create a dataframe, `philly.grouped.deciles`, that divides the officers into ten equally-sized groups, each representing 10% of the officers based on their number of complaints. Then, calculate the number of complaints in each decile and the percent of total complaints that each decile's complaints represents."
   ]
  },
  {
   "cell_type": "code",
   "execution_count": 12,
   "metadata": {},
   "outputs": [],
   "source": [
    "philly.grouped.deciles <-\n",
    "philly.grouped %>%\n",
    "  arrange(desc(n)) %>%\n",
    "  mutate(decile = ntile(n, 10)) %>%\n",
    "  group_by(decile) %>%\n",
    "  summarise(n = sum(n)) %>%\n",
    "  mutate(perc = n/sum(n) * 100)"
   ]
  },
  {
   "cell_type": "markdown",
   "metadata": {},
   "source": [
    "The top 10% of officers generating complaints (decile 10) accounted for 28% of the total complaints."
   ]
  },
  {
   "cell_type": "code",
   "execution_count": 13,
   "metadata": {},
   "outputs": [
    {
     "data": {
      "text/html": [
       "<table class=\"dataframe\">\n",
       "<caption>A tibble: 10 × 3</caption>\n",
       "<thead>\n",
       "\t<tr><th scope=col>decile</th><th scope=col>n</th><th scope=col>perc</th></tr>\n",
       "\t<tr><th scope=col>&lt;int&gt;</th><th scope=col>&lt;int&gt;</th><th scope=col>&lt;dbl&gt;</th></tr>\n",
       "</thead>\n",
       "<tbody>\n",
       "\t<tr><td> 1</td><td> 336</td><td> 5.162083</td></tr>\n",
       "\t<tr><td> 2</td><td> 336</td><td> 5.162083</td></tr>\n",
       "\t<tr><td> 3</td><td> 336</td><td> 5.162083</td></tr>\n",
       "\t<tr><td> 4</td><td> 336</td><td> 5.162083</td></tr>\n",
       "\t<tr><td> 5</td><td> 336</td><td> 5.162083</td></tr>\n",
       "\t<tr><td> 6</td><td> 540</td><td> 8.296205</td></tr>\n",
       "\t<tr><td> 7</td><td> 672</td><td>10.324167</td></tr>\n",
       "\t<tr><td> 8</td><td> 737</td><td>11.322784</td></tr>\n",
       "\t<tr><td> 9</td><td>1056</td><td>16.223690</td></tr>\n",
       "\t<tr><td>10</td><td>1824</td><td>28.022738</td></tr>\n",
       "</tbody>\n",
       "</table>\n"
      ],
      "text/latex": [
       "A tibble: 10 × 3\n",
       "\\begin{tabular}{lll}\n",
       " decile & n & perc\\\\\n",
       " <int> & <int> & <dbl>\\\\\n",
       "\\hline\n",
       "\t  1 &  336 &  5.162083\\\\\n",
       "\t  2 &  336 &  5.162083\\\\\n",
       "\t  3 &  336 &  5.162083\\\\\n",
       "\t  4 &  336 &  5.162083\\\\\n",
       "\t  5 &  336 &  5.162083\\\\\n",
       "\t  6 &  540 &  8.296205\\\\\n",
       "\t  7 &  672 & 10.324167\\\\\n",
       "\t  8 &  737 & 11.322784\\\\\n",
       "\t  9 & 1056 & 16.223690\\\\\n",
       "\t 10 & 1824 & 28.022738\\\\\n",
       "\\end{tabular}\n"
      ],
      "text/markdown": [
       "\n",
       "A tibble: 10 × 3\n",
       "\n",
       "| decile &lt;int&gt; | n &lt;int&gt; | perc &lt;dbl&gt; |\n",
       "|---|---|---|\n",
       "|  1 |  336 |  5.162083 |\n",
       "|  2 |  336 |  5.162083 |\n",
       "|  3 |  336 |  5.162083 |\n",
       "|  4 |  336 |  5.162083 |\n",
       "|  5 |  336 |  5.162083 |\n",
       "|  6 |  540 |  8.296205 |\n",
       "|  7 |  672 | 10.324167 |\n",
       "|  8 |  737 | 11.322784 |\n",
       "|  9 | 1056 | 16.223690 |\n",
       "| 10 | 1824 | 28.022738 |\n",
       "\n"
      ],
      "text/plain": [
       "   decile n    perc     \n",
       "1   1      336  5.162083\n",
       "2   2      336  5.162083\n",
       "3   3      336  5.162083\n",
       "4   4      336  5.162083\n",
       "5   5      336  5.162083\n",
       "6   6      540  8.296205\n",
       "7   7      672 10.324167\n",
       "8   8      737 11.322784\n",
       "9   9     1056 16.223690\n",
       "10 10     1824 28.022738"
      ]
     },
     "metadata": {},
     "output_type": "display_data"
    }
   ],
   "source": [
    "philly.grouped.deciles"
   ]
  },
  {
   "cell_type": "markdown",
   "metadata": {},
   "source": [
    "This group of officers in the top decile had a median of 5 complaints."
   ]
  },
  {
   "cell_type": "code",
   "execution_count": 14,
   "metadata": {},
   "outputs": [
    {
     "data": {
      "text/html": [
       "<table class=\"dataframe\">\n",
       "<caption>A tibble: 1 × 1</caption>\n",
       "<thead>\n",
       "\t<tr><th scope=col>median</th></tr>\n",
       "\t<tr><th scope=col>&lt;dbl&gt;</th></tr>\n",
       "</thead>\n",
       "<tbody>\n",
       "\t<tr><td>5</td></tr>\n",
       "</tbody>\n",
       "</table>\n"
      ],
      "text/latex": [
       "A tibble: 1 × 1\n",
       "\\begin{tabular}{l}\n",
       " median\\\\\n",
       " <dbl>\\\\\n",
       "\\hline\n",
       "\t 5\\\\\n",
       "\\end{tabular}\n"
      ],
      "text/markdown": [
       "\n",
       "A tibble: 1 × 1\n",
       "\n",
       "| median &lt;dbl&gt; |\n",
       "|---|\n",
       "| 5 |\n",
       "\n"
      ],
      "text/plain": [
       "  median\n",
       "1 5     "
      ]
     },
     "metadata": {},
     "output_type": "display_data"
    }
   ],
   "source": [
    "philly.grouped %>%\n",
    "  arrange(desc(n)) %>%\n",
    "  mutate(decile = ntile(n, 10)) %>%\n",
    "  filter(decile == 10) %>%\n",
    "  summarise(median = median(n))"
   ]
  },
  {
   "cell_type": "markdown",
   "metadata": {},
   "source": [
    "### Disciplinary action analysis: what proportion of allegations result in discipline?"
   ]
  },
  {
   "cell_type": "markdown",
   "metadata": {},
   "source": [
    "#### Chicago"
   ]
  },
  {
   "cell_type": "code",
   "execution_count": 15,
   "metadata": {},
   "outputs": [
    {
     "data": {
      "text/plain": [
       "\n",
       "   EX   NAF    NS    SU    UN \n",
       " 1408 19860  8822   490  4753 "
      ]
     },
     "metadata": {},
     "output_type": "display_data"
    }
   ],
   "source": [
    "table(chicago$final_finding) # only 530 sustained"
   ]
  },
  {
   "cell_type": "code",
   "execution_count": 16,
   "metadata": {},
   "outputs": [
    {
     "data": {
      "text/html": [
       "<table class=\"dataframe\">\n",
       "<caption>A tibble: 6 × 3</caption>\n",
       "<thead>\n",
       "\t<tr><th scope=col>final_outcome</th><th scope=col>n</th><th scope=col>perc</th></tr>\n",
       "\t<tr><th scope=col>&lt;chr&gt;</th><th scope=col>&lt;int&gt;</th><th scope=col>&lt;dbl&gt;</th></tr>\n",
       "</thead>\n",
       "<tbody>\n",
       "\t<tr><td>No Action Taken </td><td>34172</td><td>91.6876845</td></tr>\n",
       "\t<tr><td>Unknown         </td><td> 1873</td><td> 5.0254897</td></tr>\n",
       "\t<tr><td>NA              </td><td>  700</td><td> 1.8781862</td></tr>\n",
       "\t<tr><td>Reprimand       </td><td>   77</td><td> 0.2066005</td></tr>\n",
       "\t<tr><td>1 Day Suspension</td><td>   60</td><td> 0.1609874</td></tr>\n",
       "\t<tr><td>Violation Noted </td><td>   52</td><td> 0.1395224</td></tr>\n",
       "</tbody>\n",
       "</table>\n"
      ],
      "text/latex": [
       "A tibble: 6 × 3\n",
       "\\begin{tabular}{lll}\n",
       " final\\_outcome & n & perc\\\\\n",
       " <chr> & <int> & <dbl>\\\\\n",
       "\\hline\n",
       "\t No Action Taken  & 34172 & 91.6876845\\\\\n",
       "\t Unknown          &  1873 &  5.0254897\\\\\n",
       "\t NA               &   700 &  1.8781862\\\\\n",
       "\t Reprimand        &    77 &  0.2066005\\\\\n",
       "\t 1 Day Suspension &    60 &  0.1609874\\\\\n",
       "\t Violation Noted  &    52 &  0.1395224\\\\\n",
       "\\end{tabular}\n"
      ],
      "text/markdown": [
       "\n",
       "A tibble: 6 × 3\n",
       "\n",
       "| final_outcome &lt;chr&gt; | n &lt;int&gt; | perc &lt;dbl&gt; |\n",
       "|---|---|---|\n",
       "| No Action Taken  | 34172 | 91.6876845 |\n",
       "| Unknown          |  1873 |  5.0254897 |\n",
       "| NA               |   700 |  1.8781862 |\n",
       "| Reprimand        |    77 |  0.2066005 |\n",
       "| 1 Day Suspension |    60 |  0.1609874 |\n",
       "| Violation Noted  |    52 |  0.1395224 |\n",
       "\n"
      ],
      "text/plain": [
       "  final_outcome    n     perc      \n",
       "1 No Action Taken  34172 91.6876845\n",
       "2 Unknown           1873  5.0254897\n",
       "3 NA                 700  1.8781862\n",
       "4 Reprimand           77  0.2066005\n",
       "5 1 Day Suspension    60  0.1609874\n",
       "6 Violation Noted     52  0.1395224"
      ]
     },
     "metadata": {},
     "output_type": "display_data"
    }
   ],
   "source": [
    "chicago %>%\n",
    "        group_by(final_outcome) %>% \n",
    "        summarise(n = n()) %>% \n",
    "        mutate(perc = n/sum(n) * 100) %>% \n",
    "        arrange(desc(perc)) %>% head()"
   ]
  },
  {
   "cell_type": "markdown",
   "metadata": {},
   "source": [
    "#### NYC"
   ]
  },
  {
   "cell_type": "code",
   "execution_count": 17,
   "metadata": {},
   "outputs": [
    {
     "data": {
      "text/plain": [
       "\n",
       "Closed - Pending Litigation                  Exonerated \n",
       "                        175                       20498 \n",
       "              Miscellaneous               Substantiated \n",
       "                       1000                        6692 \n",
       "                  Truncated                   Unfounded \n",
       "                      27925                        6529 \n",
       "            Unsubstantiated \n",
       "                      32871 "
      ]
     },
     "metadata": {},
     "output_type": "display_data"
    }
   ],
   "source": [
    "table(nyc$BoardCat)"
   ]
  },
  {
   "cell_type": "code",
   "execution_count": 18,
   "metadata": {},
   "outputs": [
    {
     "data": {
      "text/html": [
       "<table class=\"dataframe\">\n",
       "<caption>A tibble: 6 × 3</caption>\n",
       "<thead>\n",
       "\t<tr><th scope=col>PenaltyDesc</th><th scope=col>n</th><th scope=col>perc</th></tr>\n",
       "\t<tr><th scope=col>&lt;chr&gt;</th><th scope=col>&lt;int&gt;</th><th scope=col>&lt;dbl&gt;</th></tr>\n",
       "</thead>\n",
       "<tbody>\n",
       "\t<tr><td>NA                    </td><td>89881</td><td>93.9293552</td></tr>\n",
       "\t<tr><td>Instruction           </td><td> 1218</td><td> 1.2728603</td></tr>\n",
       "\t<tr><td>No penalty            </td><td> 1107</td><td> 1.1568607</td></tr>\n",
       "\t<tr><td>Formalized Training   </td><td>  913</td><td> 0.9541227</td></tr>\n",
       "\t<tr><td>Command Discipline - A</td><td>  667</td><td> 0.6970425</td></tr>\n",
       "\t<tr><td>Command Discipline - B</td><td>  656</td><td> 0.6855471</td></tr>\n",
       "</tbody>\n",
       "</table>\n"
      ],
      "text/latex": [
       "A tibble: 6 × 3\n",
       "\\begin{tabular}{lll}\n",
       " PenaltyDesc & n & perc\\\\\n",
       " <chr> & <int> & <dbl>\\\\\n",
       "\\hline\n",
       "\t NA                     & 89881 & 93.9293552\\\\\n",
       "\t Instruction            &  1218 &  1.2728603\\\\\n",
       "\t No penalty             &  1107 &  1.1568607\\\\\n",
       "\t Formalized Training    &   913 &  0.9541227\\\\\n",
       "\t Command Discipline - A &   667 &  0.6970425\\\\\n",
       "\t Command Discipline - B &   656 &  0.6855471\\\\\n",
       "\\end{tabular}\n"
      ],
      "text/markdown": [
       "\n",
       "A tibble: 6 × 3\n",
       "\n",
       "| PenaltyDesc &lt;chr&gt; | n &lt;int&gt; | perc &lt;dbl&gt; |\n",
       "|---|---|---|\n",
       "| NA                     | 89881 | 93.9293552 |\n",
       "| Instruction            |  1218 |  1.2728603 |\n",
       "| No penalty             |  1107 |  1.1568607 |\n",
       "| Formalized Training    |   913 |  0.9541227 |\n",
       "| Command Discipline - A |   667 |  0.6970425 |\n",
       "| Command Discipline - B |   656 |  0.6855471 |\n",
       "\n"
      ],
      "text/plain": [
       "  PenaltyDesc            n     perc      \n",
       "1 NA                     89881 93.9293552\n",
       "2 Instruction             1218  1.2728603\n",
       "3 No penalty              1107  1.1568607\n",
       "4 Formalized Training      913  0.9541227\n",
       "5 Command Discipline - A   667  0.6970425\n",
       "6 Command Discipline - B   656  0.6855471"
      ]
     },
     "metadata": {},
     "output_type": "display_data"
    }
   ],
   "source": [
    "nyc %>% group_by(PenaltyDesc) %>% \n",
    "        summarise(n = n()) %>% \n",
    "        mutate(perc = n/sum(n) * 100) %>% \n",
    "        arrange(desc(perc)) %>% head()"
   ]
  },
  {
   "cell_type": "markdown",
   "metadata": {},
   "source": [
    "#### Philly"
   ]
  },
  {
   "cell_type": "code",
   "execution_count": 19,
   "metadata": {},
   "outputs": [
    {
     "data": {
      "text/html": [
       "<table class=\"dataframe\">\n",
       "<caption>A tibble: 6 × 3</caption>\n",
       "<thead>\n",
       "\t<tr><th scope=col>disciplinary_findings</th><th scope=col>n</th><th scope=col>perc</th></tr>\n",
       "\t<tr><th scope=col>&lt;chr&gt;</th><th scope=col>&lt;int&gt;</th><th scope=col>&lt;dbl&gt;</th></tr>\n",
       "</thead>\n",
       "<tbody>\n",
       "\t<tr><td>Not Applicable     </td><td>7047</td><td>73.26887087</td></tr>\n",
       "\t<tr><td>Pending            </td><td>1474</td><td>15.32543148</td></tr>\n",
       "\t<tr><td>Training/Counseling</td><td> 855</td><td> 8.88958203</td></tr>\n",
       "\t<tr><td>Guilty Finding     </td><td> 188</td><td> 1.95466833</td></tr>\n",
       "\t<tr><td>No Guilty Findings </td><td>  52</td><td> 0.54065294</td></tr>\n",
       "\t<tr><td>#VALUE!            </td><td>   2</td><td> 0.02079434</td></tr>\n",
       "</tbody>\n",
       "</table>\n"
      ],
      "text/latex": [
       "A tibble: 6 × 3\n",
       "\\begin{tabular}{lll}\n",
       " disciplinary\\_findings & n & perc\\\\\n",
       " <chr> & <int> & <dbl>\\\\\n",
       "\\hline\n",
       "\t Not Applicable      & 7047 & 73.26887087\\\\\n",
       "\t Pending             & 1474 & 15.32543148\\\\\n",
       "\t Training/Counseling &  855 &  8.88958203\\\\\n",
       "\t Guilty Finding      &  188 &  1.95466833\\\\\n",
       "\t No Guilty Findings  &   52 &  0.54065294\\\\\n",
       "\t \\#VALUE!             &    2 &  0.02079434\\\\\n",
       "\\end{tabular}\n"
      ],
      "text/markdown": [
       "\n",
       "A tibble: 6 × 3\n",
       "\n",
       "| disciplinary_findings &lt;chr&gt; | n &lt;int&gt; | perc &lt;dbl&gt; |\n",
       "|---|---|---|\n",
       "| Not Applicable      | 7047 | 73.26887087 |\n",
       "| Pending             | 1474 | 15.32543148 |\n",
       "| Training/Counseling |  855 |  8.88958203 |\n",
       "| Guilty Finding      |  188 |  1.95466833 |\n",
       "| No Guilty Findings  |   52 |  0.54065294 |\n",
       "| #VALUE!             |    2 |  0.02079434 |\n",
       "\n"
      ],
      "text/plain": [
       "  disciplinary_findings n    perc       \n",
       "1 Not Applicable        7047 73.26887087\n",
       "2 Pending               1474 15.32543148\n",
       "3 Training/Counseling    855  8.88958203\n",
       "4 Guilty Finding         188  1.95466833\n",
       "5 No Guilty Findings      52  0.54065294\n",
       "6 #VALUE!                  2  0.02079434"
      ]
     },
     "metadata": {},
     "output_type": "display_data"
    }
   ],
   "source": [
    "philly %>% group_by(disciplinary_findings) %>% summarise(n = n()) %>% mutate(perc = n/sum(n) * 100) %>% arrange(desc(n))"
   ]
  }
 ],
 "metadata": {
  "kernelspec": {
   "display_name": "R",
   "language": "R",
   "name": "ir"
  },
  "language_info": {
   "codemirror_mode": "r",
   "file_extension": ".r",
   "mimetype": "text/x-r-source",
   "name": "R",
   "pygments_lexer": "r",
   "version": "4.0.4"
  }
 },
 "nbformat": 4,
 "nbformat_minor": 4
}
