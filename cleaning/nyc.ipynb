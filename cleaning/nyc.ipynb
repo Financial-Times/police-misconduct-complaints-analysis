{
 "cells": [
  {
   "cell_type": "code",
   "execution_count": 1,
   "metadata": {},
   "outputs": [],
   "source": [
    "suppressMessages(library('tidyverse'))\n",
    "suppressMessages(library('lubridate'))"
   ]
  },
  {
   "cell_type": "markdown",
   "metadata": {},
   "source": [
    "## Load data"
   ]
  },
  {
   "cell_type": "markdown",
   "metadata": {},
   "source": [
    "Data is from the New York Civil Liberties Union's [NYPD Misconduct Complaint Database](https://www.nyclu.org/en/campaigns/nypd-misconduct-database), obtained through FOIA requests by the NYCLU to NYC's Civilian Complaint Review Board (CCRB), which is responsible for civilian oversight of the city's police. GitHub repo [here](https://github.com/new-york-civil-liberties-union/NYPD-Misconduct-Complaint-Database-Updated).\n",
    "\n",
    "Notes on the raw data:\n",
    "\n",
    "- The earliest `ReceivedDate` (date on which the CCRB received the complaint) in the data is in January 1967 (though older data is less reliably recorded); the most recent is in February 2021\n",
    "- Each complaint (aka incident) is uniquely identified by `ComplaintID`\n",
    "- Each officer is uniquely identified by `OfficerID`\n",
    "- The data does not include pending complaints\n",
    "- The data includes only CCRB-investigated complaints made by civilians. CCRB's [jurisdiction](https://www1.nyc.gov/site/ccrb/about/frequently-asked-questions-faq.page) covers four types of misconduct: force that is excessive or unnecessary; abuse of authority; discourtesy; and offensive language, collectively referred to as \"FADO\"\n",
    "- There can be more than one allegation under a given complaint. For example, an incident can have several allegations against multiple officers. Each allegation is uniquely identifed by `AllegationID`. An incident _can_ and often does contain more than one allegation against the same police officer (note this is where the NYC data differs from the Chicago data)\n",
    "\n",
    "More information on each field in the data is in the [CCRB Filespecs](https://github.com/new-york-civil-liberties-union/NYPD-Misconduct-Complaint-Database-Updated/blob/main/CCRB%20Filespecs%2004.20.2021.xlsx) on the NYCLU's GitHub"
   ]
  },
  {
   "cell_type": "code",
   "execution_count": 2,
   "metadata": {},
   "outputs": [
    {
     "name": "stderr",
     "output_type": "stream",
     "text": [
      "\n",
      "\u001b[36m──\u001b[39m \u001b[1m\u001b[1mColumn specification\u001b[1m\u001b[22m \u001b[36m───────────────────────────────────────────────────────────────────────────────────────────────\u001b[39m\n",
      "cols(\n",
      "  .default = col_character(),\n",
      "  AllegationID = \u001b[32mcol_double()\u001b[39m,\n",
      "  OfficerID = \u001b[32mcol_double()\u001b[39m,\n",
      "  ShieldNo = \u001b[32mcol_double()\u001b[39m,\n",
      "  DaysOnForce = \u001b[32mcol_double()\u001b[39m,\n",
      "  ComplaintID = \u001b[32mcol_double()\u001b[39m,\n",
      "  ImpactedAge = \u001b[32mcol_double()\u001b[39m\n",
      ")\n",
      "\u001b[36mℹ\u001b[39m Use \u001b[30m\u001b[47m\u001b[30m\u001b[47m`spec()`\u001b[47m\u001b[30m\u001b[49m\u001b[39m for the full column specifications.\n",
      "\n",
      "\n"
     ]
    }
   ],
   "source": [
    "complaints <- read_csv('../input/nyc/CCRB Complaint Database Raw 04.20.2021.csv')"
   ]
  },
  {
   "cell_type": "markdown",
   "metadata": {},
   "source": [
    "### Format dates and filter time period to 2007-2017"
   ]
  },
  {
   "cell_type": "markdown",
   "metadata": {},
   "source": [
    "We chose to run our analysis for the 2007-2017 time period because it offers a robust ten-year time frame which we also use for Chicago. Also, since the NYCLU database only includes closed cases, it will necessarily contain fewer cases in more recent years such as 2020 and 2021, as fewer of them will have been completed as of this year."
   ]
  },
  {
   "cell_type": "code",
   "execution_count": 3,
   "metadata": {},
   "outputs": [],
   "source": [
    "complaints <- complaints %>% mutate(ReceivedDate = mdy(ReceivedDate), \n",
    "                                    IncidentDate = mdy(IncidentDate), \n",
    "                                    CloseDate = mdy(CloseDate)) "
   ]
  },
  {
   "cell_type": "code",
   "execution_count": 4,
   "metadata": {},
   "outputs": [],
   "source": [
    "complaints.filtered <- complaints %>% filter(ReceivedDate >= '2007-01-01' & ReceivedDate <= '2017-12-31')"
   ]
  },
  {
   "cell_type": "markdown",
   "metadata": {},
   "source": [
    "### Save data "
   ]
  },
  {
   "cell_type": "code",
   "execution_count": 5,
   "metadata": {},
   "outputs": [],
   "source": [
    "write_csv(complaints.filtered, '../output/nyc_clean.csv')"
   ]
  }
 ],
 "metadata": {
  "kernelspec": {
   "display_name": "R",
   "language": "R",
   "name": "ir"
  },
  "language_info": {
   "codemirror_mode": "r",
   "file_extension": ".r",
   "mimetype": "text/x-r-source",
   "name": "R",
   "pygments_lexer": "r",
   "version": "4.0.4"
  }
 },
 "nbformat": 4,
 "nbformat_minor": 4
}
