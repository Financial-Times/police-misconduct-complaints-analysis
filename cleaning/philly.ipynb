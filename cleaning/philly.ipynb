{
 "cells": [
  {
   "cell_type": "code",
   "execution_count": 1,
   "metadata": {},
   "outputs": [],
   "source": [
    "suppressMessages(library('tidyverse'))\n",
    "suppressMessages(library('lubridate'))"
   ]
  },
  {
   "cell_type": "markdown",
   "metadata": {},
   "source": [
    "## Load data"
   ]
  },
  {
   "cell_type": "markdown",
   "metadata": {},
   "source": [
    "Data from 2016 onwards is released by the Philadelphia Police Department on [OpenDataPhilly](https://www.opendataphilly.org/dataset/police-complaints), the city's open data website. The following datasets are loaded:\n",
    "\n",
    "- `complaints.against.police`: the [Complaints Against Police](https://www.opendataphilly.org/dataset/police-complaints/resource/e7477284-0045-4f37-8aeb-182616f736e8) dataset, which provides information about civilian complaints alleging police misconduct\n",
    "- `complaints.against.police.findings`: the [CAP Findings](https://www.opendataphilly.org/dataset/police-complaints/resource/7f7d472f-c49c-4364-b6e0-3a079e6b7d7f) dataset, which provides information about the police officer(s) involved in each complaint, and the status of the allegations\n",
    "\n",
    "Notes on the raw data:\n",
    "\n",
    "- The earliest `date_received` (date the complaint was received) in the data is in January 2016; the most recent is in March 2021. The department posts data for the past five years on a rolling basis\n",
    "- Each complaint is uniqely identified by `complaint_id`\n",
    "- Each officer is uniquely identified by `officer_id`. A small number of these are `NA` and are ommitted from our analysis\n",
    "- The data includes pending complaints\n",
    "- In Philadelphia, the internal affairs bureau investigates the vast majority of civilian complaints (unlike in other cities like NYC, where a civilian oversight agency has a broad jurisdiction). The data includes civilian-filed complaints that are investigated by internal affairs\n",
    "- There can be more than one allegation under a given complaint. For example, an incident can have several allegations against multiple officers. An incident _can_ and often does contain more than one allegation against the same police officer (note this is where the Philadelphia data differs from the Chicago data)\n",
    "\n",
    "More information on each field in the data is available on the Metadata pages for [Complaints Against Police](https://metadata.phila.gov/#home/datasetdetails/5a3827b4b9464c55711a0816/representationdetails/5a3827dbb954635579423e0f/) and [Complaints Against Police Findings](https://metadata.phila.gov/#home/datasetdetails/5a3827b4b9464c55711a0816/representationdetails/5a3827b6b9464c55711a081a/)\n",
    "\n",
    "(We will load the OpenPhilly data from the API and save a static copy for future reference)"
   ]
  },
  {
   "cell_type": "code",
   "execution_count": 2,
   "metadata": {},
   "outputs": [],
   "source": [
    "url.cap <- 'https://phl.carto.com/api/v2/sql?q=SELECT+*+FROM+ppd_complaints&filename=ppd_complaints&format=csv&skipfields=cartodb_id,the_geom,the_geom_webmercator'\n",
    "url.cap.findings <- 'https://phl.carto.com/api/v2/sql?q=SELECT+*+FROM+ppd_complaint_disciplines&filename=ppd_complaint_disciplines&format=csv&skipfields=cartodb_id,the_geom,the_geom_webmercator'"
   ]
  },
  {
   "cell_type": "code",
   "execution_count": 3,
   "metadata": {},
   "outputs": [
    {
     "name": "stderr",
     "output_type": "stream",
     "text": [
      "\n",
      "\u001b[36m──\u001b[39m \u001b[1m\u001b[1mColumn specification\u001b[1m\u001b[22m \u001b[36m───────────────────────────────────────────────────────────────────────────────────────────────\u001b[39m\n",
      "cols(\n",
      "  complaint_id = \u001b[31mcol_character()\u001b[39m,\n",
      "  date_received = \u001b[34mcol_date(format = \"\")\u001b[39m,\n",
      "  district_occurrence = \u001b[31mcol_character()\u001b[39m,\n",
      "  general_cap_classification = \u001b[31mcol_character()\u001b[39m,\n",
      "  summary = \u001b[31mcol_character()\u001b[39m\n",
      ")\n",
      "\n",
      "\n",
      "\n",
      "\u001b[36m──\u001b[39m \u001b[1m\u001b[1mColumn specification\u001b[1m\u001b[22m \u001b[36m───────────────────────────────────────────────────────────────────────────────────────────────\u001b[39m\n",
      "cols(\n",
      "  complaint_id = \u001b[31mcol_character()\u001b[39m,\n",
      "  officer_id = \u001b[32mcol_double()\u001b[39m,\n",
      "  po_race = \u001b[31mcol_character()\u001b[39m,\n",
      "  po_sex = \u001b[31mcol_character()\u001b[39m,\n",
      "  po_assigned_unit = \u001b[31mcol_character()\u001b[39m,\n",
      "  allegations_investigated = \u001b[31mcol_character()\u001b[39m,\n",
      "  investigative_findings = \u001b[31mcol_character()\u001b[39m,\n",
      "  disciplinary_findings = \u001b[31mcol_character()\u001b[39m\n",
      ")\n",
      "\n",
      "\n"
     ]
    }
   ],
   "source": [
    "complaints.against.police <- read_csv(url.cap)\n",
    "complaints.against.police.findings <- read_csv(url.cap.findings)\n",
    "\n",
    "write_csv(complaints.against.police, '../input/philly/complaints_against_police.csv')\n",
    "write_csv(complaints.against.police.findings, '../input/philly/complaints.against.police.findings.csv')"
   ]
  },
  {
   "cell_type": "markdown",
   "metadata": {},
   "source": [
    "The Philadelphia Police Department releases data for a trailing five-year period, meaning there is data from prior to 2016 that has been overwritten by newly-released data on OpenDataPhilly. Data from April 2015 to December 2015 is from [Sam Learner](https://www.samlearner.com/), who previously collected it for a data visualization [story](https://pudding.cool/2020/10/police-misconduct/) on police misconduct investigations in Philadelphia published by The Pudding.\n",
    "\n",
    "Note Learner also used pre-2015 data from Philly Declaration's [Police Accountability Project](https://github.com/PhillyDeclaration/Philadelphia-Police-Accountability-Project) in his report; however, we are not able to include this information because police officers in the earlier dataset were identified by first and last initial rather than by a unique ID number.\n",
    "\n",
    "(We will load the data from Learner's GitHub [repo](https://github.com/sdl60660/philly_police_complaints), filter it to include only 2015 data, and save a static copy for future reference)"
   ]
  },
  {
   "cell_type": "code",
   "execution_count": 4,
   "metadata": {},
   "outputs": [],
   "source": [
    "complaints.old <- read.csv('https://raw.githubusercontent.com/sdl60660/philly_police_complaints/master/raw_data/ppd_complaints.csv', \n",
    "         stringsAsFactors = F) \n",
    "\n",
    "complaint.disciplines.old <- read.csv('https://raw.githubusercontent.com/sdl60660/philly_police_complaints/master/raw_data/ppd_complaint_disciplines.csv', \n",
    "                                      stringsAsFactors = F) %>% \n",
    "        filter(!is.na(officer_id))\n",
    "\n",
    "complaints.old.merge <- merge(complaint.disciplines.old, complaints.old,\n",
    "                              by = 'complaint_id', all.x = T) %>% mutate(date_received = mdy(date_received)) %>% \n",
    "filter(year(date_received) == 2015)\n",
    "\n",
    "write_csv(complaints.old.merge, '../input/philly/complaints_2015.csv')"
   ]
  },
  {
   "cell_type": "markdown",
   "metadata": {},
   "source": [
    "### Combine 2015 data with data from 2016 onwards"
   ]
  },
  {
   "cell_type": "code",
   "execution_count": 5,
   "metadata": {},
   "outputs": [],
   "source": [
    "complaints.against.police.merge <- merge(complaints.against.police, \n",
    "                                         complaints.against.police.findings, \n",
    "                                         by = 'complaint_id') %>% filter(!is.na(officer_id))\n",
    "\n",
    "complaints.against.police.merge.2015 <- rbind(complaints.against.police.merge, \n",
    "                                              complaints.old.merge %>% select(-officer_initials, \n",
    "                                                                              -officer_complaint_id,\n",
    "                                                                              -discipline_id, \n",
    "                                                                              -shortened_summary,\n",
    "                                                                              -po_district_number))"
   ]
  },
  {
   "cell_type": "markdown",
   "metadata": {},
   "source": [
    "### Save data"
   ]
  },
  {
   "cell_type": "code",
   "execution_count": 6,
   "metadata": {},
   "outputs": [],
   "source": [
    "write_csv(complaints.against.police.merge.2015, '../output/philly_clean.csv')"
   ]
  }
 ],
 "metadata": {
  "kernelspec": {
   "display_name": "R",
   "language": "R",
   "name": "ir"
  },
  "language_info": {
   "codemirror_mode": "r",
   "file_extension": ".r",
   "mimetype": "text/x-r-source",
   "name": "R",
   "pygments_lexer": "r",
   "version": "4.0.4"
  }
 },
 "nbformat": 4,
 "nbformat_minor": 4
}
